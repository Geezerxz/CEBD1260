{
 "cells": [
  {
   "cell_type": "code",
   "execution_count": 1,
   "metadata": {},
   "outputs": [
    {
     "name": "stderr",
     "output_type": "stream",
     "text": [
      " * Running on http://0.0.0.0:5000/ (Press CTRL+C to quit)\n"
     ]
    }
   ],
   "source": [
    "#data app\n",
    "\n",
    "from flask import Flask, render_template, request\n",
    "from sklearn.externals import joblib\n",
    "import os\n",
    "\n",
    "app = Flask(__name__, static_url_path='/static/')\n",
    "\n",
    "\n",
    "@app.route('/')\n",
    "def form():\n",
    "    return render_template('index.html')\n",
    "\n",
    "\n",
    "@app.route('/predict_price', methods=['POST', 'GET'])\n",
    "def predict_price():\n",
    "    # get the parameters\n",
    "    lower_bound = float(request.form['lower_bound'])\n",
    "    upper_bound = float(request.form['upper_bound'])\n",
    "\n",
    "    # load the model and predict\n",
    "    stocks_cyc=pd.read_csv('stocks_app.csv')\n",
    "    stocks = stocks_cyc[(stocks_cyc['Correlation']>=x1test) & (stocks_cyc['Correlation']<=x2test)]\n",
    "    predicted_stocks = stocks\n",
    "\n",
    "    return render_template('results.html',\n",
    "                           lower_bound=int(lower_bound),\n",
    "                           upper_bound=int(upper_bound),\n",
    "                           predicted_price=\"{:,}\".format(predicted_stocks)\n",
    "                           )\n",
    "\n",
    "\n",
    "if __name__ == '__main__':\n",
    "    port = int(os.environ.get('PORT', 5000))\n",
    "    app.run(host='0.0.0.0', port=port)"
   ]
  },
  {
   "cell_type": "code",
   "execution_count": null,
   "metadata": {},
   "outputs": [],
   "source": []
  }
 ],
 "metadata": {
  "kernelspec": {
   "display_name": "Python 3",
   "language": "python",
   "name": "python3"
  },
  "language_info": {
   "codemirror_mode": {
    "name": "ipython",
    "version": 3
   },
   "file_extension": ".py",
   "mimetype": "text/x-python",
   "name": "python",
   "nbconvert_exporter": "python",
   "pygments_lexer": "ipython3",
   "version": "3.6.4"
  }
 },
 "nbformat": 4,
 "nbformat_minor": 2
}
